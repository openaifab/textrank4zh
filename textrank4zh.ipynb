{
  "nbformat": 4,
  "nbformat_minor": 0,
  "metadata": {
    "colab": {
      "name": "Untitled0.ipynb",
      "provenance": [],
      "collapsed_sections": []
    },
    "kernelspec": {
      "name": "python3",
      "display_name": "Python 3"
    }
  },
  "cells": [
    {
      "cell_type": "code",
      "metadata": {
        "id": "lAR88b1LXxOp",
        "colab_type": "code",
        "outputId": "864f786a-9249-4fcb-acb5-268322b93338",
        "colab": {
          "base_uri": "https://localhost:8080/",
          "height": 673
        }
      },
      "source": [
        "!pip install textrank4zh\n",
        "!pip install requests2\n",
        "!pip install beautifulsoup4"
      ],
      "execution_count": 0,
      "outputs": [
        {
          "output_type": "stream",
          "text": [
            "Collecting textrank4zh\n",
            "  Downloading https://files.pythonhosted.org/packages/20/95/db33aa17260781c6336afddbe2e7ca75ab7529810a3341a009fa9869ed9a/textrank4zh-0.3.zip\n",
            "Requirement already satisfied: jieba>=0.35 in /usr/local/lib/python3.6/dist-packages (from textrank4zh) (0.42.1)\n",
            "Requirement already satisfied: numpy>=1.7.1 in /usr/local/lib/python3.6/dist-packages (from textrank4zh) (1.18.2)\n",
            "Requirement already satisfied: networkx>=1.9.1 in /usr/local/lib/python3.6/dist-packages (from textrank4zh) (2.4)\n",
            "Requirement already satisfied: decorator>=4.3.0 in /usr/local/lib/python3.6/dist-packages (from networkx>=1.9.1->textrank4zh) (4.4.2)\n",
            "Building wheels for collected packages: textrank4zh\n",
            "  Building wheel for textrank4zh (setup.py) ... \u001b[?25l\u001b[?25hdone\n",
            "  Created wheel for textrank4zh: filename=textrank4zh-0.3-cp36-none-any.whl size=13422 sha256=d18a8ff59c8b535dc63a2eaa77892177de81483d9b85af250892fcb8f48066bb\n",
            "  Stored in directory: /root/.cache/pip/wheels/91/85/e6/97fc29d803101d979e4fa5dcbbea3492789d77e0d1b6d49fa3\n",
            "Successfully built textrank4zh\n",
            "Installing collected packages: textrank4zh\n",
            "Successfully installed textrank4zh-0.3\n",
            "Collecting requests2\n",
            "\u001b[?25l  Downloading https://files.pythonhosted.org/packages/89/f0/7cd1a25af31a5d4971d2eac794b0bc31eb445b28cadd621d4ad04be5ae4c/requests2-2.16.0-py2.py3-none-any.whl (85kB)\n",
            "\u001b[K     |████████████████████████████████| 92kB 2.5MB/s \n",
            "\u001b[?25hRequirement already satisfied: chardet<3.1.0,>=3.0.2 in /usr/local/lib/python3.6/dist-packages (from requests2) (3.0.4)\n",
            "Collecting urllib3<1.22,>=1.21.1\n",
            "\u001b[?25l  Downloading https://files.pythonhosted.org/packages/24/53/f397db567de0aa0e81b211d81c13c41a779f14893e42189cf5bdb97611b2/urllib3-1.21.1-py2.py3-none-any.whl (131kB)\n",
            "\u001b[K     |████████████████████████████████| 133kB 8.7MB/s \n",
            "\u001b[?25hRequirement already satisfied: certifi>=2017.4.17 in /usr/local/lib/python3.6/dist-packages (from requests2) (2019.11.28)\n",
            "Collecting idna<2.6,>=2.5\n",
            "\u001b[?25l  Downloading https://files.pythonhosted.org/packages/11/7d/9bbbd7bb35f34b0169542487d2a8859e44306bb2e6a4455d491800a5621f/idna-2.5-py2.py3-none-any.whl (55kB)\n",
            "\u001b[K     |████████████████████████████████| 61kB 7.0MB/s \n",
            "\u001b[31mERROR: datascience 0.10.6 has requirement folium==0.2.1, but you'll have folium 0.8.3 which is incompatible.\u001b[0m\n",
            "\u001b[?25hInstalling collected packages: urllib3, idna, requests2\n",
            "  Found existing installation: urllib3 1.24.3\n",
            "    Uninstalling urllib3-1.24.3:\n",
            "      Successfully uninstalled urllib3-1.24.3\n",
            "  Found existing installation: idna 2.8\n",
            "    Uninstalling idna-2.8:\n",
            "      Successfully uninstalled idna-2.8\n",
            "Successfully installed idna-2.5 requests2-2.16.0 urllib3-1.21.1\n"
          ],
          "name": "stdout"
        },
        {
          "output_type": "display_data",
          "data": {
            "application/vnd.colab-display-data+json": {
              "pip_warning": {
                "packages": [
                  "idna",
                  "requests",
                  "urllib3"
                ]
              }
            }
          },
          "metadata": {
            "tags": []
          }
        },
        {
          "output_type": "stream",
          "text": [
            "Requirement already satisfied: beautifulsoup4 in /usr/local/lib/python3.6/dist-packages (4.6.3)\n"
          ],
          "name": "stdout"
        }
      ]
    },
    {
      "cell_type": "code",
      "metadata": {
        "id": "IOm1eX7FQfkc",
        "colab_type": "code",
        "colab": {}
      },
      "source": [
        "import requests"
      ],
      "execution_count": 0,
      "outputs": []
    },
    {
      "cell_type": "code",
      "metadata": {
        "id": "nUjKotbgL1Ct",
        "colab_type": "code",
        "colab": {}
      },
      "source": [
        "r = requests.get('http://shop.teascovery.com/Article/Detail/28345')\n"
      ],
      "execution_count": 0,
      "outputs": []
    },
    {
      "cell_type": "code",
      "metadata": {
        "id": "ltN6VrtnQjga",
        "colab_type": "code",
        "colab": {}
      },
      "source": [
        "content=r.text\n",
        "from bs4 import BeautifulSoup\n",
        "soup = BeautifulSoup(content, 'html.parser')"
      ],
      "execution_count": 0,
      "outputs": []
    },
    {
      "cell_type": "code",
      "metadata": {
        "id": "RIeZTEW-Yuq5",
        "colab_type": "code",
        "outputId": "9ec7638e-555a-4385-ab4b-4a0f6d396c0d",
        "colab": {
          "base_uri": "https://localhost:8080/",
          "height": 658
        }
      },
      "source": [
        "#soup.find_all('p')\n",
        "text=''\n",
        "title = soup.title.get_text()\n",
        "#print(title)\n",
        "\n",
        "text=text+title+'\\n'\n",
        "\n",
        "#print(text)\n",
        "\n",
        "for p in soup.find('body').find_all('p'):\n",
        "  #print(p)\n",
        "  if p.get_text()!='':\n",
        "    #print('-----------------------------------------------')\n",
        "    #print(p.get_text())\n",
        "    text=text+p.get_text().replace(' ','')+'\\n'\n",
        "    #print(text)\n",
        "\n",
        "print(text)"
      ],
      "execution_count": 0,
      "outputs": [
        {
          "output_type": "stream",
          "text": [
            "\r\n",
            "「傳統黑糖」竟是「還原黑糖」？一眼就知道 - Teascovery發現茶\r\n",
            "    \n",
            "\r\n",
            "語系\r\n",
            "\n",
            "\r\n",
            "幣別\r\n",
            "\n",
            "「黑糖」榮登糖界模範生\n",
            "黑糖有濃甜的好滋味，還含有豐富的礦物質和維生素，特別是鐵、鈣、鎂等，有助於女生減緩生理不適；相比之下，白糖、冰糖、二砂只有滿滿的糖分，幾乎沒有任何營養。\n",
            "黑糖身世大解密：古法黑糖ＶＳ還原黑糖\n",
            "最早的黑糖，是如何誕生的呢？根據明代《天工開物》的記載，當時用牛力榨取甘蔗汁，加入貝殼粉（氧化鈣）經過沈澱、燉煮、冷卻而成，這也是現在我們所稱的「傳統古法黑糖」的製程（以下稱古法黑糖）。\n",
            "但「古法黑糖」的製作方式，要花很多的人力、耗費很久的時間、產出的量又很少，現代業者為了提高效率、節省成本，以白糖（蔗糖）和糖蜜為原料，以機械化的方式快速生產，這也就是「還原黑糖」。\n",
            "我在超市買的是哪一種黑糖？看「成分」來判斷！\n",
            "★黑糖小老師：「包裝成分如果沒有寫『甘蔗』，很有可能就不是古法黑糖！」\n",
            "為了替消費者一探究竟，我們化身成黑糖特派大使，實際走訪消費者最常去的知名量販店和生鮮超市，買了架上所有品牌的黑糖，查看了包裝背後的標示成分，看看這些市售黑糖到底是哪一種。\n",
            "實測結果發現，市售黑糖成分多為蔗糖（白糖）、二砂和糖蜜，都屬於「還原黑糖」。\n",
            "★黑糖小老師：賣場的黑糖幾乎都是「還原黑糖」，但在品名的標示上，有些卻稱自己是「純手工」或「傳統」製作的黑糖。\n",
            "建議消費者記得看成分，不要被包裝上的甜言蜜語迷惑喔！\n",
            "營養、口感大剖析：「古法黑糖」和「還原黑糖」哪個好？\n",
            "我們化身黑糖品味大使，把古法黑糖送往專業機構檢驗，比較兩者的營養價值。同時，我們攤開所有買來的黑糖，依序把品名遮住、貼上標籤後，分別摸一摸質地、聞聞看味道、單吃糖粒、和泡熱水喝喝看，紀錄口中的真實感受！\n",
            "在營養成分上，古法黑糖和還原黑糖都有豐富的鐵、鈣、鎂礦物質，有助於補鐵補血、調節神經肌肉；在成分多寡上，古法黑糖的鎂多於還原黑糖，鐵、鈣的含量則較少。\n",
            "★黑糖小老師：上圖的營養成分並非絕對喔！「古法黑糖」會因甘蔗品質、師傅熬煮的時間長短而有所差異，「還原黑糖」也會因糖蜜成分、廠商添加的量而有所不同。\n",
            "我到底要吃哪一種黑糖？選擇權在於你！\n",
            "兩種都含有鐵鈣鎂營養、口感則是古法黑糖較美味，那你想要吃哪一種呢？回到兩種糖最根本的差別：「成分」，還原黑糖，將白糖和糖蜜以機械化方式合成，成本低、效率高，是現代供應大量黑糖需求的主要產製方式；古法黑糖，由師傅熬煮天然甘蔗，經冷卻、過濾而成。\n",
            "雖然兩種都是黑糖，但我們確信，當選擇用白糖和萃取物（糖蜜）作為原料時，甘蔗最天然的原味，包括香氣、成分、口感等，都已經流失掉一大部分。\n",
            "身為消費者的你，對於吃的追求是什麼呢，是不算太差的合成味道，還是天然真實的好味道？\n",
            "業者要用什麼方式生產，是業者的選擇，而你要吃哪一種黑糖，也是你的選擇。所以，吃你認為是對的食物吧！\n",
            "參考資料：\n",
            "1.台美檢驗報告編號：M61-171200527\n",
            "2.《天工開物》甘嗜第六卷\n",
            "3. 原來你吃的黑糖不一定是你以為的黑糖!!!\n",
            "4. 中天新聞〈紀錄台灣〉黑糖製作\n",
            "5.「傳統黑糖」與「還原黑糖」的區別\n",
            "發現茶編編：原來黑糖裡有大學問！趕緊分享給身邊的黑糖控（按下方FB或Line可以直接分享唷↓↓↓）\n",
            "\n"
          ],
          "name": "stdout"
        }
      ]
    },
    {
      "cell_type": "code",
      "metadata": {
        "id": "soBYO8sgXy0A",
        "colab_type": "code",
        "colab": {}
      },
      "source": [
        "text=\"〔記者蔡宗憲／屏東報導〕武漢肺炎嚴峻，清明連假連續兩晚在墾丁大街爆出人潮，引發全國性的關注，為了落實「室外一公尺社交距離」，屏東警方一度規劃封閉墾丁大街段車道，但因遊客遽減取消，但「臨檢口罩」仍是全國風景區首見，意外造就百分百口罩覆蓋率的奇蹟。\\\n",
        "墾丁大街人潮「社交距離不足」成為焦點，屏縣府破天荒規劃夜間祭出封閉台二十六線墾丁大街段車道，從下午開始就規劃第一階段南北分流，晚間則讓遊客保持一公尺以上逛街距離，但最終因遊客數少，仍保持兩個車道南北通行。\\\n",
        "雖然未封閉車道，但除了屏縣府衛生局沿街廣播宣導，警方更大動作在大街入口進行少見的「臨檢」，針對未戴口罩強勢勸導戴上，外籍遊客未攜帶則當場發放要求戴上，形成相當特殊的畫面。\\\n",
        "不過，這項「車過吹哨」措施也引發當地業者納悶，認為中央未發佈禁足令，在連假前鼓勵大家都空曠地區踏青，人潮湧入又殘忍發簡訊「要大家別來」，如今遊客都已北返才大動作管制勸導，反傷害地方觀光形象。\\\n",
        "屏縣府表示，希望兼顧當地商機，也希望在疫情嚴峻情況下，能夠擴大逛街民眾的室外安全距離，才會考量採取這項些措施，疫情尚未趨緩前，未來週末或連續假期欲果人潮暴增，都會考慮類似作法。\""
      ],
      "execution_count": 0,
      "outputs": []
    },
    {
      "cell_type": "code",
      "metadata": {
        "id": "mwKFY5n1PgMe",
        "colab_type": "code",
        "colab": {}
      },
      "source": [
        "text=\"〔記者蔡宗憲／屏東報導〕武漢肺炎嚴峻。\\\n",
        "清明連假連續兩晚在墾丁大街爆出人潮。\\\n",
        "引發全國性的關注。\\\n",
        "為了落實「室外一公尺社交距離」。\\\n",
        "屏東警方一度規劃封閉墾丁大街段車道。\\\n",
        "但因遊客遽減取消。\\\n",
        "但「臨檢口罩」仍是全國風景區首見。\\\n",
        "意外造就百分百口罩覆蓋率的奇蹟。\""
      ],
      "execution_count": 0,
      "outputs": []
    },
    {
      "cell_type": "code",
      "metadata": {
        "id": "0DyU8lawamg5",
        "colab_type": "code",
        "outputId": "04a533a2-8bf0-4292-f0ef-07cadd31a75d",
        "colab": {
          "base_uri": "https://localhost:8080/",
          "height": 944
        }
      },
      "source": [
        "# -*- encoding:utf-8 -*- \n",
        "from  __future__  import print_function\n",
        "\n",
        "import sys\n",
        "try:\n",
        "\n",
        "  reload (sys)\n",
        "  sys.setdefaultencoding(' utf-8 ')\n",
        "except:\n",
        "  pass\n",
        "\n",
        "import codecs\n",
        "from textrank4zh import TextRank4Keyword, TextRank4Sentence\n",
        "\n",
        "\n",
        "tr4w = TextRank4Keyword()\n",
        "\n",
        "tr4w.analyze( text = text, lower = True , window = 2 )   # py2中text必須是utf8編碼的str或者unicode對象，py3中必須是utf8編碼的bytes或者str對象\n",
        "\n",
        "print( '關鍵詞：' )\n",
        "for item in tr4w.get_keywords( 20 , word_min_len = 2 ):\n",
        "  print (item.word, item.weight)\n",
        "\n",
        "print()\n",
        "print ( '關鍵短語：' )\n",
        "for phrase in tr4w.get_keyphrases( keywords_num = 40 , min_occur_num =  1 ):\n",
        "  print (phrase)\n",
        "\n",
        "tr4s = TextRank4Sentence()\n",
        "tr4s.analyze( text = text, lower = True , source  =  ' all_filters ' )\n",
        "\n",
        "print()\n",
        "print ('摘要\"')\n",
        "for item in tr4s.get_key_sentences( num = 10 ):\n",
        "  print (item.index, item.weight, item.sentence)   # index是語句在文本中位置，weight是權重"
      ],
      "execution_count": 0,
      "outputs": [
        {
          "output_type": "stream",
          "text": [
            "關鍵詞：\n",
            "黑糖 0.05992938772097549\n",
            "成分 0.022360026271220572\n",
            "白糖 0.013584040827508949\n",
            "糖蜜 0.012520569082600633\n",
            "營養 0.012094513675585951\n",
            "方式 0.011368126486113704\n",
            "發現 0.009366640752695112\n",
            "消費者 0.009167101288636592\n",
            "選擇 0.008624864419764736\n",
            "甘蔗 0.008142577204704089\n",
            "合成 0.00808979963626575\n",
            "開物 0.008069289005936054\n",
            "傳統 0.008021419061255709\n",
            "業者 0.007675680948519555\n",
            "檢驗 0.007646326422926703\n",
            "古法 0.007509466677900468\n",
            "大使 0.007402982405642232\n",
            "品名 0.007380210806807473\n",
            "包裝 0.006923289080119171\n",
            "小老師 0.006821305197165024\n",
            "\n",
            "關鍵短語：\n",
            "黑糖成分\n",
            "鎂營養\n",
            "甜言蜜語\n",
            "黑糖小老師\n",
            "於吃\n",
            "合成味道\n",
            "知名量販店\n",
            "看味道\n",
            "傳統古法黑糖\n",
            "熬煮\n",
            "傳統黑糖\n",
            "看成分\n",
            "生鮮超市\n",
            "古法黑糖\n",
            "成黑糖\n",
            "現代業者\n",
            "營養成分\n",
            "方式合成\n",
            "糖蜜成分\n",
            "\n",
            "摘要\"\n",
            "22 0.04040051323346294 在營養成分上，古法黑糖和還原黑糖都有豐富的鐵、鈣、鎂礦物質，有助於補鐵補血、調節神經肌肉\n",
            "23 0.037443231998904855 在成分多寡上，古法黑糖的鎂多於還原黑糖，鐵、鈣的含量則較少\n",
            "16 0.036994717900285926 實測結果發現，市售黑糖成分多為蔗糖（白糖）、二砂和糖蜜，都屬於「還原黑糖」\n",
            "10 0.03663215923448922 但「古法黑糖」的製作方式，要花很多的人力、耗費很久的時間、產出的量又很少，現代業者為了提高效率、節省成本，以白糖（蔗糖）和糖蜜為原料，以機械化的方式快速生產，這也就是「還原黑糖」\n",
            "25 0.03528659009279576 「古法黑糖」會因甘蔗品質、師傅熬煮的時間長短而有所差異，「還原黑糖」也會因糖蜜成分、廠商添加的量而有所不同\n",
            "29 0.03340661021912793 回到兩種糖最根本的差別：「成分」，還原黑糖，將白糖和糖蜜以機械化方式合成，成本低、效率高，是現代供應大量黑糖需求的主要產製方式\n",
            "19 0.03225619060617558 營養、口感大剖析：「古法黑糖」和「還原黑糖」哪個好\n",
            "31 0.031459501348218656 雖然兩種都是黑糖，但我們確信，當選擇用白糖和萃取物（糖蜜）作為原料時，甘蔗最天然的原味，包括香氣、成分、口感等，都已經流失掉一大部分\n",
            "17 0.031091161350665093 ★黑糖小老師：賣場的黑糖幾乎都是「還原黑糖」，但在品名的標示上，有些卻稱自己是「純手工」或「傳統」製作的黑糖\n",
            "15 0.03043458798615374 為了替消費者一探究竟，我們化身成黑糖特派大使，實際走訪消費者最常去的知名量販店和生鮮超市，買了架上所有品牌的黑糖，查看了包裝背後的標示成分，看看這些市售黑糖到底是哪一種\n"
          ],
          "name": "stdout"
        }
      ]
    }
  ]
}